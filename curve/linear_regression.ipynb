{
 "cells": [
  {
   "cell_type": "code",
   "execution_count": 78,
   "metadata": {},
   "outputs": [],
   "source": [
    "import pandas as pd\n",
    "from sklearn.model_selection import train_test_split\n",
    "from sklearn.linear_model import LinearRegression\n",
    "from sklearn.metrics import mean_squared_error, r2_score"
   ]
  },
  {
   "cell_type": "code",
   "execution_count": 79,
   "metadata": {},
   "outputs": [],
   "source": [
    "from statsmodels.tsa.seasonal import seasonal_decompose"
   ]
  },
  {
   "cell_type": "code",
   "execution_count": 80,
   "metadata": {},
   "outputs": [],
   "source": [
    "# Replace these file paths with the paths to your CSV files\n",
    "file_paths = {\n",
    "    \"code_commits\": \"token_terminal_data/daily_code_commits.csv\",\n",
    "    \"core_developers\": \"token_terminal_data/daily_core_developers.csv\",\n",
    "    \"crv_price\": \"token_terminal_data/daily_crv_price.csv\",\n",
    "    \"crv_token_holders\": \"token_terminal_data/daily_crv_token_holders.csv\",\n",
    "    \"crv_trading_volume\": \"token_terminal_data/daily_crv_trading_volume.csv\",\n",
    "    \"earnings\": \"token_terminal_data/daily_earnings.csv\",\n",
    "    \"expenses\": \"token_terminal_data/daily_expenses.csv\",\n",
    "    \"fees\": \"token_terminal_data/daily_fees.csv\",\n",
    "    \"market_cap_circulating\": \"token_terminal_data/daily_market_cap_circulating.csv\",\n",
    "    \"market_cap_fully_diluted\": \"token_terminal_data/daily_market_cap_fully_diluted.csv\",\n",
    "    \"pf_ratio_circulating\": \"token_terminal_data/daily_pf_ratio_circulating.csv\",\n",
    "    \"pf_ratio_fully_diluted\": \"token_terminal_data/daily_pf_ratio_fully_diluted.csv\",\n",
    "    \"ps_ratio_circulating\": \"token_terminal_data/daily_ps_ratio_circulating.csv\",\n",
    "    \"ps_ratio_fully_diluted\": \"token_terminal_data/daily_ps_ratio_fully_diluted.csv\",\n",
    "    \"revenue\": \"token_terminal_data/daily_revenue.csv\",\n",
    "    \"supplyside_fees\": \"token_terminal_data/daily_supplyside_fees.csv\",\n",
    "    \"token_incentives\": \"token_terminal_data/daily_token_incentives.csv\",\n",
    "    \"trading_volume_on_curve\": \"token_terminal_data/daily_trading_volume_on_curve.csv\",\n",
    "    \"treasury\": \"token_terminal_data/daily_treasury.csv\",\n",
    "    \"tvl\": \"token_terminal_data/daily_tvl.csv\",\n",
    "    \"pool\": \"token_terminal_data/wbtc_weth_usdt_pool_data.csv\"\n",
    "}\n",
    "\n",
    "\n",
    "# Initialize an empty DataFrame to merge all datasets\n",
    "combined_df = None\n",
    "\n",
    "# Read each file and merge it into the combined DataFrame\n",
    "for file_label, file_path in file_paths.items():\n",
    "    # Read the CSV file\n",
    "    df = pd.read_csv(file_path)\n",
    "\n",
    "    # Assuming 'date' is the common column across all files\n",
    "    if combined_df is None:\n",
    "        combined_df = df\n",
    "    else:\n",
    "        combined_df = pd.merge(combined_df, df, on=\"date\", how=\"outer\")"
   ]
  },
  {
   "cell_type": "code",
   "execution_count": 81,
   "metadata": {},
   "outputs": [
    {
     "data": {
      "text/plain": [
       "['date',\n",
       " 'code_commits',\n",
       " 'core_developers',\n",
       " 'price',\n",
       " 'crv_token_holders',\n",
       " 'crv_trading_volume',\n",
       " 'earnings',\n",
       " 'expenses',\n",
       " 'fees',\n",
       " 'market_cap_circulating',\n",
       " 'market_cap_fully_diluted',\n",
       " 'p_f_ratio_circulating',\n",
       " 'p_f_ratio_fully_diluted',\n",
       " 'p_s_ratio_circulating',\n",
       " 'p_s_ratio_fully_diluted',\n",
       " 'revenue',\n",
       " 'supply_side_fees',\n",
       " 'token_incentives',\n",
       " 'trading_volume',\n",
       " 'treasury',\n",
       " 'tvl',\n",
       " 'pool_transaction_volume']"
      ]
     },
     "execution_count": 81,
     "metadata": {},
     "output_type": "execute_result"
    }
   ],
   "source": [
    "list(combined_df.columns)"
   ]
  },
  {
   "cell_type": "code",
   "execution_count": 95,
   "metadata": {},
   "outputs": [
    {
     "name": "stdout",
     "output_type": "stream",
     "text": [
      "Mean Squared Error: 1858944914036821.0\n",
      "R^2 Score: 0.4622714932061103\n"
     ]
    }
   ],
   "source": [
    "X = combined_df[['code_commits',\n",
    " 'price',\n",
    " 'crv_token_holders',\n",
    " 'crv_trading_volume',\n",
    " 'fees',\n",
    " 'market_cap_circulating',\n",
    " 'p_f_ratio_circulating',\n",
    " 'token_incentives',\n",
    " 'trading_volume',\n",
    " 'tvl']]\n",
    "y = combined_df['pool_transaction_volume']\n",
    "\n",
    "X = X.fillna(X.mean())\n",
    "\n",
    "# Split the data into training and test sets\n",
    "X_train, X_test, y_train, y_test = train_test_split(X, y, test_size=0.2, random_state=0)\n",
    "\n",
    "# Implement the Linear Regression Model\n",
    "model = LinearRegression()\n",
    "\n",
    "# Train the Model\n",
    "model.fit(X_train, y_train)\n",
    "\n",
    "# Predict using the test set\n",
    "y_pred = model.predict(X_test)\n",
    "\n",
    "# Evaluate the model\n",
    "mse = mean_squared_error(y_test, y_pred)\n",
    "r2 = r2_score(y_test, y_pred)\n",
    "\n",
    "print(f\"Mean Squared Error: {mse}\")\n",
    "print(f\"R^2 Score: {r2}\")"
   ]
  },
  {
   "cell_type": "code",
   "execution_count": null,
   "metadata": {},
   "outputs": [],
   "source": []
  }
 ],
 "metadata": {
  "kernelspec": {
   "display_name": "blaze--experiments",
   "language": "python",
   "name": "python3"
  },
  "language_info": {
   "codemirror_mode": {
    "name": "ipython",
    "version": 3
   },
   "file_extension": ".py",
   "mimetype": "text/x-python",
   "name": "python",
   "nbconvert_exporter": "python",
   "pygments_lexer": "ipython3",
   "version": "3.9.6"
  },
  "orig_nbformat": 4
 },
 "nbformat": 4,
 "nbformat_minor": 2
}
