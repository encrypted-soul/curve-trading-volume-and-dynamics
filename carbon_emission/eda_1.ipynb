{
 "cells": [
  {
   "cell_type": "code",
   "execution_count": 121,
   "metadata": {},
   "outputs": [],
   "source": [
    "import pandas as pd\n",
    "import numpy as np\n",
    "import pycountry_convert as pc\n",
    "import matplotlib.pyplot as plt\n",
    "import seaborn as sns\n",
    "import pycountry\n",
    "from sklearn.model_selection import train_test_split\n",
    "from sklearn.ensemble import RandomForestRegressor\n",
    "from sklearn.metrics import mean_squared_error"
   ]
  },
  {
   "cell_type": "code",
   "execution_count": 122,
   "metadata": {},
   "outputs": [],
   "source": [
    "invalid = []"
   ]
  },
  {
   "cell_type": "code",
   "execution_count": 123,
   "metadata": {},
   "outputs": [
    {
     "name": "stderr",
     "output_type": "stream",
     "text": [
      "/var/folders/2h/3jxpl0dd521c2qvlst0b13jh0000gn/T/ipykernel_16844/1867049925.py:10: DtypeWarning: Columns (5) have mixed types. Specify dtype option on import or set low_memory=False.\n",
      "  sector_wise_df = pd.read_csv(sector_wise_path, delimiter=',')\n"
     ]
    }
   ],
   "source": [
    "totals_path = './combined_data/combined_co2_ghg_totals.csv'\n",
    "per_gdp_path = './combined_data/combined_co2_ghg_per_gdp.csv'\n",
    "per_capita_path = './combined_data/combined_co2_ghg_per_capita.csv'\n",
    "sector_wise_path = './combined_data/combined_co2_ghg_by_sector.csv'\n",
    "\n",
    "# Read the CSV files using the correct delimiter\n",
    "totals_df = pd.read_csv(totals_path, delimiter=',')\n",
    "per_gdp_df = pd.read_csv(per_gdp_path, delimiter=',')\n",
    "per_capita_df = pd.read_csv(per_capita_path, delimiter=',')\n",
    "sector_wise_df = pd.read_csv(sector_wise_path, delimiter=',')"
   ]
  },
  {
   "cell_type": "code",
   "execution_count": 124,
   "metadata": {},
   "outputs": [],
   "source": [
    "totals_df.dropna(inplace=True)\n",
    "per_gdp_df.dropna(inplace=True)\n",
    "per_capita_df.dropna(inplace=True)\n",
    "sector_wise_df.dropna(inplace=True)"
   ]
  },
  {
   "cell_type": "code",
   "execution_count": 125,
   "metadata": {},
   "outputs": [
    {
     "name": "stdout",
     "output_type": "stream",
     "text": [
      "  Substance EDGAR Country Code                 Country  Year    Total CO2  \\\n",
      "0       CO2                ABW                   Aruba  1970  0,025213789   \n",
      "1       CO2                AFG             Afghanistan  1970  1,734053007   \n",
      "2       CO2                AGO                  Angola  1970  8,948152992   \n",
      "3       CO2                AIA                Anguilla  1970  0,002177587   \n",
      "4       CO2                AIR  International Aviation  1970  168,6025154   \n",
      "\n",
      "     Total GHG  \n",
      "0  0,045175752  \n",
      "1  17,33619212  \n",
      "2  20,13836441  \n",
      "3  0,004256361  \n",
      "4  171,1604553  \n",
      "<class 'pandas.core.frame.DataFrame'>\n",
      "RangeIndex: 11236 entries, 0 to 11235\n",
      "Data columns (total 6 columns):\n",
      " #   Column              Non-Null Count  Dtype \n",
      "---  ------              --------------  ----- \n",
      " 0   Substance           11236 non-null  object\n",
      " 1   EDGAR Country Code  11236 non-null  object\n",
      " 2   Country             11236 non-null  object\n",
      " 3   Year                11236 non-null  int64 \n",
      " 4   Total CO2           11236 non-null  object\n",
      " 5   Total GHG           11236 non-null  object\n",
      "dtypes: int64(1), object(5)\n",
      "memory usage: 526.8+ KB\n",
      "None\n",
      "               Year\n",
      "count  11236.000000\n",
      "mean    1996.000000\n",
      "std       15.297739\n",
      "min     1970.000000\n",
      "25%     1983.000000\n",
      "50%     1996.000000\n",
      "75%     2009.000000\n",
      "max     2022.000000\n"
     ]
    }
   ],
   "source": [
    "# Displaying first few rows for a quick inspection\n",
    "print(totals_df.head())\n",
    "\n",
    "# Summary of the dataset\n",
    "print(totals_df.info())\n",
    "\n",
    "# Statistical summary\n",
    "print(totals_df.describe())"
   ]
  },
  {
   "cell_type": "code",
   "execution_count": 126,
   "metadata": {},
   "outputs": [],
   "source": [
    "def country_to_continent(country_name):\n",
    "    try:\n",
    "        # Handling specific cases directly\n",
    "        if country_name == 'Côte d’Ivoire':  # Make sure to use the exact character\n",
    "            return 'Africa'\n",
    "        elif country_name == 'International Aviation' or country_name == 'International Shipping' or country_name == 'EU27' or country_name == 'GLOBAL TOTAL' or country_name == None:\n",
    "            return 'N/A'\n",
    "        elif pd.isna(country_name):  # Handling NaN values\n",
    "            return 'N/A'\n",
    "        elif country_name == \"Switzerland and Liechtenstein\":\n",
    "            return 'Europe'\n",
    "        elif country_name == 'Faroes':\n",
    "            return 'Europe'\n",
    "        elif country_name == 'Western Sahara':\n",
    "            return 'Africa'\n",
    "        elif country_name == 'The Gambia':\n",
    "            return 'Africa'\n",
    "        elif country_name == 'Timor-Leste':\n",
    "            return 'Asia'\n",
    "        # if country_name == \"\"\"Côte d'Ivoire\"\"\":\n",
    "        #     return 'Africa'\n",
    "        elif country_name == 'Spain and Andorra':\n",
    "            return 'Europe'\n",
    "        elif country_name == 'France and Monaco':\n",
    "            return 'Europe'\n",
    "        elif country_name == 'Israel and Palestine, State of':\n",
    "            return 'Asia'\n",
    "        elif country_name == 'Italy, San Marino and the Holy See':\n",
    "            return 'Europe'\n",
    "        elif country_name == 'Myanmar/Burma':\n",
    "            return 'Asia'\n",
    "        elif country_name == 'Serbia and Montenegro':\n",
    "            return 'Europe'\n",
    "        elif country_name == 'Sudan and South Sudan':\n",
    "            return 'Africa'\n",
    "        else:\n",
    "            # Standard case\n",
    "            country_alpha2 = pc.country_name_to_country_alpha2(country_name)\n",
    "            country_continent_code = pc.country_alpha2_to_continent_code(country_alpha2)\n",
    "            country_continent_name = pc.convert_continent_code_to_continent_name(country_continent_code)\n",
    "            return country_continent_name\n",
    "    except Exception as e:\n",
    "        invalid.append(country_name)\n",
    "        print(\"Invalid country is \", country_name)\n",
    "        return None"
   ]
  },
  {
   "cell_type": "code",
   "execution_count": 127,
   "metadata": {},
   "outputs": [
    {
     "data": {
      "text/plain": [
       "Index(['Substance', 'EDGAR Country Code', 'Country', 'Year', 'Total CO2',\n",
       "       'Total GHG'],\n",
       "      dtype='object')"
      ]
     },
     "execution_count": 127,
     "metadata": {},
     "output_type": "execute_result"
    }
   ],
   "source": [
    "totals_df.columns"
   ]
  },
  {
   "cell_type": "code",
   "execution_count": 128,
   "metadata": {},
   "outputs": [
    {
     "data": {
      "text/plain": [
       "0                         Aruba\n",
       "1                   Afghanistan\n",
       "2                        Angola\n",
       "3                      Anguilla\n",
       "4        International Aviation\n",
       "                  ...          \n",
       "11231              South Africa\n",
       "11232                    Zambia\n",
       "11233                  Zimbabwe\n",
       "11234                      EU27\n",
       "11235              GLOBAL TOTAL\n",
       "Name: Country, Length: 11236, dtype: object"
      ]
     },
     "execution_count": 128,
     "metadata": {},
     "output_type": "execute_result"
    }
   ],
   "source": [
    "totals_df['Country']"
   ]
  },
  {
   "cell_type": "code",
   "execution_count": 129,
   "metadata": {},
   "outputs": [],
   "source": [
    "# Mapping countries to continents\n",
    "totals_df['Continent'] = totals_df['Country'].apply(country_to_continent)\n",
    "per_gdp_df['Continent'] = per_gdp_df['Country'].apply(country_to_continent)\n",
    "per_capita_df['Continent'] = per_capita_df['Country'].apply(country_to_continent)\n",
    "sector_wise_df['Continent'] = sector_wise_df['Country'].apply(country_to_continent)\n"
   ]
  },
  {
   "cell_type": "code",
   "execution_count": 130,
   "metadata": {},
   "outputs": [],
   "source": [
    "# Example: Convert 'Total CO2' and 'Total GHG' columns to numeric\n",
    "totals_df['Total CO2'] = pd.to_numeric(totals_df['Total CO2'].str.replace(',', '.'), errors='coerce')\n",
    "totals_df['Total GHG'] = pd.to_numeric(totals_df['Total GHG'].str.replace(',', '.'), errors='coerce')\n",
    "\n",
    "# Similarly for other dataframes if needed\n",
    "# per_gdp_df, per_capita_df, sector_wise_df\n"
   ]
  },
  {
   "cell_type": "code",
   "execution_count": 131,
   "metadata": {},
   "outputs": [],
   "source": [
    "per_capita_df['CO2 Value'] = pd.to_numeric(per_capita_df['CO2 Value'].str.replace(',', '.'), errors='coerce')\n",
    "per_capita_df['GHG Value'] = pd.to_numeric(per_capita_df['GHG Value'].str.replace(',', '.'), errors='coerce')"
   ]
  },
  {
   "cell_type": "code",
   "execution_count": 132,
   "metadata": {},
   "outputs": [],
   "source": [
    "per_gdp_df['CO2 per GDP'] = pd.to_numeric(per_gdp_df['CO2 per GDP'].str.replace(',', '.'), errors='coerce')\n",
    "per_gdp_df['GHG per GDP'] = pd.to_numeric(per_gdp_df['GHG per GDP'].str.replace(',', '.'), errors='coerce')"
   ]
  },
  {
   "cell_type": "code",
   "execution_count": 133,
   "metadata": {},
   "outputs": [],
   "source": [
    "sector_wise_df['CO2 by Sector'] = pd.to_numeric(sector_wise_df['CO2 by Sector'].str.replace(',', '.'), errors='coerce')\n",
    "sector_wise_df['GHG by Sector'] = pd.to_numeric(sector_wise_df['GHG by Sector'].str.replace(',', '.'), errors='coerce')"
   ]
  },
  {
   "cell_type": "code",
   "execution_count": 134,
   "metadata": {},
   "outputs": [],
   "source": [
    "grouped_totals_co2 = totals_df.groupby(['Continent', 'Year'])['Total CO2'].mean().reset_index()\n",
    "grouped_totals_ghg = totals_df.groupby(['Continent', 'Year'])['Total GHG'].mean().reset_index()"
   ]
  },
  {
   "cell_type": "code",
   "execution_count": 135,
   "metadata": {},
   "outputs": [],
   "source": [
    "grouped_per_capita_co2 = per_capita_df.groupby(['Continent', 'Year'])['CO2 Value'].mean().reset_index()\n",
    "grouped_per_capita_ghg = per_capita_df.groupby(['Continent', 'Year'])['GHG Value'].mean().reset_index()"
   ]
  },
  {
   "cell_type": "code",
   "execution_count": 136,
   "metadata": {},
   "outputs": [],
   "source": [
    "grouped_per_gdp_co2 = per_gdp_df.groupby(['Continent', 'Year'])['CO2 per GDP'].mean().reset_index()\n",
    "grouped_per_gdp_ghg = per_gdp_df.groupby(['Continent', 'Year'])['CO2 per GDP'].mean().reset_index()"
   ]
  },
  {
   "cell_type": "code",
   "execution_count": 137,
   "metadata": {},
   "outputs": [],
   "source": [
    "grouped_sector_wise_co2 = sector_wise_df.groupby(['Continent', 'Year'])['CO2 by Sector'].mean().reset_index()\n",
    "grouped_sector_wise_ghg = sector_wise_df.groupby(['Continent', 'Year'])['GHG by Sector'].mean().reset_index()"
   ]
  },
  {
   "cell_type": "code",
   "execution_count": 142,
   "metadata": {},
   "outputs": [],
   "source": [
    "merged_df_co2 = pd.merge(grouped_totals_co2, grouped_per_gdp_co2, on=['Continent', 'Year'])\n",
    "merged_df_co2 = pd.merge(merged_df_co2, grouped_per_capita_co2, on=['Continent', 'Year'])\n",
    "merged_df_co2 = pd.merge(merged_df_co2, grouped_sector_wise_co2, on=['Continent', 'Year'])"
   ]
  },
  {
   "cell_type": "code",
   "execution_count": 143,
   "metadata": {},
   "outputs": [],
   "source": [
    "merged_df_ghg = pd.merge(grouped_totals_ghg, grouped_per_gdp_ghg, on=['Continent', 'Year'])\n",
    "merged_df_ghg = pd.merge(merged_df_ghg, grouped_per_capita_ghg, on=['Continent', 'Year'])\n",
    "merged_df_ghg = pd.merge(merged_df_ghg, grouped_sector_wise_ghg, on=['Continent', 'Year'])"
   ]
  },
  {
   "cell_type": "code",
   "execution_count": 144,
   "metadata": {},
   "outputs": [
    {
     "name": "stdout",
     "output_type": "stream",
     "text": [
      "RMSE for CO2 Model: 210.5933366247567\n",
      "Predicted CO2 Emissions: [[ 48.56675432  50.59802821  50.41394732]\n",
      " [143.19988509 152.5486648  154.26105239]]\n",
      "RMSE for GHG Model: 281.91309917177256\n",
      "Predicted GHG Emissions: [[ 87.6552168   89.86450581  90.02538334]\n",
      " [197.33567124 207.37111015 210.00435688]]\n"
     ]
    }
   ],
   "source": [
    "# Pivot the data to have years as columns and continents as rows\n",
    "pivot_co2 = merged_df_co2.pivot(index='Continent', columns='Year', values='Total CO2').fillna(0)\n",
    "pivot_ghg = merged_df_ghg.pivot(index='Continent', columns='Year', values='Total GHG').fillna(0)\n",
    "\n",
    "# Define a function to prepare data for modeling\n",
    "def prepare_data_for_modeling(pivot_df):\n",
    "    X = pivot_df.iloc[:, :-3].values  # Use all years except the last three for features\n",
    "    y = pivot_df.iloc[:, -3:].values  # Use the last three years for the target variable\n",
    "    return X, y\n",
    "\n",
    "# Prepare data for CO2 and GHG models\n",
    "X_co2, y_co2 = prepare_data_for_modeling(pivot_co2)\n",
    "X_ghg, y_ghg = prepare_data_for_modeling(pivot_ghg)\n",
    "\n",
    "# Creating Random Forest models for CO2 and GHG predictions\n",
    "model_co2 = RandomForestRegressor(n_estimators=100, random_state=42)\n",
    "model_ghg = RandomForestRegressor(n_estimators=100, random_state=42)\n",
    "\n",
    "# Splitting data into training and test sets\n",
    "X_train_co2, X_test_co2, y_train_co2, y_test_co2 = train_test_split(X_co2, y_co2, test_size=0.2, random_state=42)\n",
    "X_train_ghg, X_test_ghg, y_train_ghg, y_test_ghg = train_test_split(X_ghg, y_ghg, test_size=0.2, random_state=42)\n",
    "\n",
    "# Training the models\n",
    "model_co2.fit(X_train_co2, y_train_co2)\n",
    "model_ghg.fit(X_train_ghg, y_train_ghg)\n",
    "\n",
    "# Predicting emissions for the next three years\n",
    "predicted_co2 = model_co2.predict(X_test_co2)\n",
    "predicted_ghg = model_ghg.predict(X_test_ghg)\n",
    "\n",
    "# Assessing model performance (using RMSE)\n",
    "rmse_co2 = np.sqrt(mean_squared_error(y_test_co2, predicted_co2))\n",
    "rmse_ghg = np.sqrt(mean_squared_error(y_test_ghg, predicted_ghg))\n",
    "\n",
    "# Displaying the RMSE values and predicted emissions\n",
    "print(\"RMSE for CO2 Model:\", rmse_co2)\n",
    "print(\"Predicted CO2 Emissions:\", predicted_co2)\n",
    "print(\"RMSE for GHG Model:\", rmse_ghg)\n",
    "print(\"Predicted GHG Emissions:\", predicted_ghg)"
   ]
  },
  {
   "cell_type": "code",
   "execution_count": 146,
   "metadata": {},
   "outputs": [
    {
     "data": {
      "text/html": [
       "<div>\n",
       "<style scoped>\n",
       "    .dataframe tbody tr th:only-of-type {\n",
       "        vertical-align: middle;\n",
       "    }\n",
       "\n",
       "    .dataframe tbody tr th {\n",
       "        vertical-align: top;\n",
       "    }\n",
       "\n",
       "    .dataframe thead th {\n",
       "        text-align: right;\n",
       "    }\n",
       "</style>\n",
       "<table border=\"1\" class=\"dataframe\">\n",
       "  <thead>\n",
       "    <tr style=\"text-align: right;\">\n",
       "      <th></th>\n",
       "      <th>Continent</th>\n",
       "      <th>Year</th>\n",
       "      <th>Total CO2</th>\n",
       "      <th>CO2 per GDP</th>\n",
       "      <th>CO2 Value</th>\n",
       "      <th>CO2 by Sector</th>\n",
       "    </tr>\n",
       "  </thead>\n",
       "  <tbody>\n",
       "    <tr>\n",
       "      <th>0</th>\n",
       "      <td>Africa</td>\n",
       "      <td>1990</td>\n",
       "      <td>12.696884</td>\n",
       "      <td>0.154542</td>\n",
       "      <td>0.959513</td>\n",
       "      <td>2.002889</td>\n",
       "    </tr>\n",
       "    <tr>\n",
       "      <th>1</th>\n",
       "      <td>Africa</td>\n",
       "      <td>1991</td>\n",
       "      <td>12.806070</td>\n",
       "      <td>0.160238</td>\n",
       "      <td>0.965966</td>\n",
       "      <td>2.043134</td>\n",
       "    </tr>\n",
       "    <tr>\n",
       "      <th>2</th>\n",
       "      <td>Africa</td>\n",
       "      <td>1992</td>\n",
       "      <td>13.125000</td>\n",
       "      <td>0.158208</td>\n",
       "      <td>0.945813</td>\n",
       "      <td>2.088068</td>\n",
       "    </tr>\n",
       "    <tr>\n",
       "      <th>3</th>\n",
       "      <td>Africa</td>\n",
       "      <td>1993</td>\n",
       "      <td>13.166357</td>\n",
       "      <td>0.157656</td>\n",
       "      <td>0.947032</td>\n",
       "      <td>2.100615</td>\n",
       "    </tr>\n",
       "    <tr>\n",
       "      <th>4</th>\n",
       "      <td>Africa</td>\n",
       "      <td>1994</td>\n",
       "      <td>13.270459</td>\n",
       "      <td>0.193316</td>\n",
       "      <td>1.007051</td>\n",
       "      <td>2.105229</td>\n",
       "    </tr>\n",
       "  </tbody>\n",
       "</table>\n",
       "</div>"
      ],
      "text/plain": [
       "  Continent  Year  Total CO2  CO2 per GDP  CO2 Value  CO2 by Sector\n",
       "0    Africa  1990  12.696884     0.154542   0.959513       2.002889\n",
       "1    Africa  1991  12.806070     0.160238   0.965966       2.043134\n",
       "2    Africa  1992  13.125000     0.158208   0.945813       2.088068\n",
       "3    Africa  1993  13.166357     0.157656   0.947032       2.100615\n",
       "4    Africa  1994  13.270459     0.193316   1.007051       2.105229"
      ]
     },
     "execution_count": 146,
     "metadata": {},
     "output_type": "execute_result"
    }
   ],
   "source": [
    "merged_df_co2.head()"
   ]
  },
  {
   "cell_type": "code",
   "execution_count": 153,
   "metadata": {},
   "outputs": [],
   "source": [
    "random_forest_regressor = merged_df_co2"
   ]
  },
  {
   "cell_type": "code",
   "execution_count": 154,
   "metadata": {},
   "outputs": [
    {
     "data": {
      "text/plain": [
       "Index(['Continent', 'Year', 'Total CO2', 'CO2 per GDP', 'CO2 Value',\n",
       "       'CO2 by Sector'],\n",
       "      dtype='object')"
      ]
     },
     "execution_count": 154,
     "metadata": {},
     "output_type": "execute_result"
    }
   ],
   "source": [
    "random_forest_regressor.columns"
   ]
  },
  {
   "cell_type": "code",
   "execution_count": 165,
   "metadata": {},
   "outputs": [],
   "source": [
    "random_forest_regressor = random_forest_regressor.drop(['Continent', 'Year'], axis=1)"
   ]
  },
  {
   "cell_type": "code",
   "execution_count": 166,
   "metadata": {},
   "outputs": [],
   "source": [
    "# Preparing data for the model\n",
    "X = random_forest_regressor.drop(['Total CO2'], axis=1).values\n",
    "y = random_forest_regressor[['Total CO2']].values"
   ]
  },
  {
   "cell_type": "code",
   "execution_count": 168,
   "metadata": {},
   "outputs": [
    {
     "data": {
      "text/plain": [
       "array([[3.26401739e-01, 6.88150237e+00, 5.32737567e+01],\n",
       "       [2.16822832e-01, 3.16942075e+00, 1.04950220e+01],\n",
       "       [4.92252472e-01, 8.12872783e+00, 2.33307777e+01],\n",
       "       [1.02078384e+00, 1.26818208e+01, 4.27661604e+00],\n",
       "       [3.06086128e-01, 6.22765057e+00, 1.66795751e+03],\n",
       "       [2.42114341e-01, 5.92891068e+00, 2.24577712e+03],\n",
       "       [3.37058988e-01, 8.16204132e+00, 2.24351729e+01],\n",
       "       [2.70863961e-01, 7.82080472e+00, 2.07604017e+01],\n",
       "       [1.97718886e-01, 6.74380749e+00, 1.88698177e+01],\n",
       "       [1.82850429e-01, 2.79985926e+00, 1.04035450e+01],\n",
       "       [2.74101649e-01, 6.44175799e+00, 2.05403447e+03],\n",
       "       [4.72014401e-01, 6.05953396e+00, 2.39407666e+01],\n",
       "       [1.61120155e-01, 1.42886533e+00, 4.08339862e+00],\n",
       "       [5.46021424e-01, 9.03180758e+00, 2.60722172e+01],\n",
       "       [9.08746600e-01, 1.31248082e+01, 5.46616225e+00],\n",
       "       [1.85050811e-01, 1.91609020e+00, 5.43919043e+00],\n",
       "       [1.68754593e-01, 1.22516782e+00, 2.52461228e+00],\n",
       "       [2.66872010e-01, 6.22690234e+00, 2.18632969e+03],\n",
       "       [1.60375779e-01, 1.39160984e+00, 4.34683188e+00],\n",
       "       [1.85180432e-01, 4.84915202e+00, 2.86998411e+01],\n",
       "       [5.17369929e-01, 8.37411461e+00, 2.45147841e+01],\n",
       "       [3.69092324e-01, 7.59617279e+00, 2.11368709e+01],\n",
       "       [1.91432971e-01, 1.05098558e+00, 2.22955886e+00],\n",
       "       [3.07557841e-01, 6.88403607e+00, 5.50375779e+01],\n",
       "       [2.94624765e-01, 6.50744969e+00, 1.92144903e+03],\n",
       "       [2.07131972e-01, 4.10445238e+00, 2.97607365e+01],\n",
       "       [5.79300504e-01, 9.38973917e+00, 5.57779224e+00],\n",
       "       [2.93461071e-01, 6.73416266e+00, 6.34457284e+01],\n",
       "       [1.96555803e-01, 4.25546321e+00, 3.13180034e+01],\n",
       "       [6.00832536e-01, 8.73184327e+00, 5.31627875e+00],\n",
       "       [1.84301175e-01, 3.50164620e+00, 2.72771258e+01],\n",
       "       [1.64403206e-01, 1.36952980e+00, 4.28910062e+00],\n",
       "       [1.62662274e-01, 1.20647694e+00, 2.66562657e+00],\n",
       "       [4.93117527e-01, 5.79472129e+00, 2.04611136e+01],\n",
       "       [1.58538474e-01, 1.39751006e+00, 4.34883610e+00],\n",
       "       [4.17649744e-01, 6.35425426e+00, 2.54107769e+01],\n",
       "       [1.97571607e-01, 2.73755381e+00, 9.34137990e+00],\n",
       "       [2.88074126e-01, 6.56066843e+00, 1.98181457e+03],\n",
       "       [1.82090562e-01, 4.77430114e+00, 3.02501857e+01],\n",
       "       [3.57442247e-01, 6.92986859e+00, 4.32736177e+01],\n",
       "       [1.84451862e-01, 3.61922784e+00, 2.58853150e+01],\n",
       "       [6.35765061e-01, 9.40507634e+00, 5.38933101e+00],\n",
       "       [3.52549277e-01, 7.62503668e+00, 2.14754498e+01],\n",
       "       [4.26987500e-01, 6.28206166e+00, 2.49903940e+01],\n",
       "       [1.79558255e-01, 6.40172707e+00, 1.86285779e+01],\n",
       "       [2.11675999e-01, 4.30352539e+00, 3.01473984e+01],\n",
       "       [3.36064090e-01, 7.85421892e+00, 2.17135157e+01],\n",
       "       [1.76039393e-01, 3.32899747e+00, 2.66895284e+01],\n",
       "       [1.61142280e-01, 1.40549938e+00, 4.11828245e+00],\n",
       "       [1.93374734e-01, 2.32662025e+00, 8.25426368e+00],\n",
       "       [9.20864076e-01, 1.41563000e+01, 4.82489863e+00],\n",
       "       [1.78537699e-01, 4.67289455e+00, 2.96552621e+01],\n",
       "       [1.54541600e-01, 9.59512590e-01, 2.00288869e+00],\n",
       "       [1.58207820e-01, 9.45813335e-01, 2.08806815e+00],\n",
       "       [3.48642900e-01, 7.85289318e+00, 2.17529066e+01],\n",
       "       [4.02598774e-01, 6.70672896e+00, 3.10062693e+01],\n",
       "       [3.68817339e-01, 6.52798884e+00, 1.50174355e+03],\n",
       "       [2.99518338e-01, 6.26225983e+00, 1.71101162e+03],\n",
       "       [1.82312835e-01, 3.50002660e+00, 2.83479621e+01],\n",
       "       [1.05977767e+00, 1.43593119e+01, 4.12276415e+00],\n",
       "       [2.32650677e-01, 6.97714645e+00, 1.90954711e+01],\n",
       "       [2.64208921e-01, 7.50350304e+00, 2.00480218e+01],\n",
       "       [1.64240022e-01, 4.40060935e+00, 2.92235007e+01],\n",
       "       [1.87208958e-01, 4.92131873e+00, 2.96580312e+01],\n",
       "       [1.74408159e-01, 6.29183874e+00, 1.83099208e+01],\n",
       "       [4.76976756e-01, 5.87452468e+00, 2.14642895e+01],\n",
       "       [6.11319953e-01, 9.40334900e+00, 5.33917999e+00],\n",
       "       [3.01344082e-01, 6.74102520e+00, 5.96494230e+01],\n",
       "       [1.56262487e-01, 1.36821315e+00, 3.83867082e+00],\n",
       "       [1.88256796e-01, 2.97418153e+00, 1.09287048e+01],\n",
       "       [8.98923254e-01, 1.22228035e+01, 5.43207587e+00],\n",
       "       [4.87524120e-01, 5.88530214e+00, 1.92207887e+01],\n",
       "       [1.69072400e-01, 1.25107737e+00, 2.61712847e+00],\n",
       "       [1.91621174e-01, 2.92972772e+00, 1.08918726e+01],\n",
       "       [7.28133454e-01, 1.09810120e+01, 5.16425052e+00],\n",
       "       [1.83650309e-01, 1.06991588e+00, 2.33713103e+00],\n",
       "       [1.57532092e-01, 1.40932030e+00, 4.23916962e+00],\n",
       "       [2.04574658e-01, 4.29114563e+00, 3.05038064e+01],\n",
       "       [1.83945396e-01, 3.03424497e+00, 1.14688682e+01],\n",
       "       [1.86486591e-01, 3.04793881e+00, 1.16749856e+01],\n",
       "       [1.83721667e-01, 4.86338761e+00, 3.03117034e+01],\n",
       "       [1.93315978e-01, 1.00705073e+00, 2.10522855e+00],\n",
       "       [2.58196859e-01, 6.07735972e+00, 2.24018312e+03],\n",
       "       [1.62181260e-01, 1.38152213e+00, 4.30423380e+00],\n",
       "       [1.49047356e-01, 3.95036857e+00, 2.86221530e+01],\n",
       "       [2.96723853e-01, 6.74778883e+00, 6.02601189e+01],\n",
       "       [2.17615224e-01, 5.72716266e+00, 2.33563079e+03],\n",
       "       [1.94610694e-01, 2.23702617e+00, 7.50027294e+00],\n",
       "       [8.46212721e-01, 1.30315650e+01, 5.09320561e+00],\n",
       "       [4.44417483e-01, 7.92862413e+00, 2.21896134e+01],\n",
       "       [9.49091370e-01, 1.33924281e+01, 5.42705231e+00],\n",
       "       [3.00159036e-01, 6.76399121e+00, 6.26961025e+01],\n",
       "       [4.02707206e-01, 6.46094043e+00, 2.74457100e+01],\n",
       "       [1.98041468e-01, 5.12559867e+00, 3.08187909e+01],\n",
       "       [4.39228246e-01, 6.30016135e+00, 2.50273890e+01],\n",
       "       [2.48221441e-01, 5.90047291e+00, 2.24669724e+03],\n",
       "       [1.57082555e-01, 1.38258756e+00, 3.92456184e+00],\n",
       "       [8.51491037e-01, 1.29815801e+01, 4.66170269e+00],\n",
       "       [9.10510857e-01, 1.27926523e+01, 4.22268821e+00],\n",
       "       [3.05833623e-01, 8.16524782e+00, 2.21195828e+01],\n",
       "       [4.43373290e-01, 6.08396980e+00, 2.42894414e+01],\n",
       "       [5.58904166e-01, 8.96211554e+00, 5.57812826e+00],\n",
       "       [3.91773333e-01, 6.72435009e+00, 3.36647588e+01],\n",
       "       [2.12072902e-01, 7.03609188e+00, 1.92241622e+01],\n",
       "       [5.38205171e-01, 8.89252386e+00, 5.40264529e+00],\n",
       "       [4.14369536e-01, 6.42100209e+00, 2.67224427e+01],\n",
       "       [1.99318067e-01, 4.48266776e+00, 3.10073300e+01],\n",
       "       [1.93940310e-01, 2.29331096e+00, 7.49194469e+00],\n",
       "       [1.57655796e-01, 9.47031545e-01, 2.10061544e+00],\n",
       "       [3.41319420e-01, 6.36490649e+00, 1.57908998e+03],\n",
       "       [3.37434928e-01, 6.72018803e+00, 4.84342467e+01],\n",
       "       [1.84611100e-01, 3.57896048e+00, 2.57142372e+01],\n",
       "       [1.99903099e-01, 2.22106543e+00, 7.74244763e+00],\n",
       "       [6.67868852e-01, 9.65108489e+00, 5.53354428e+00],\n",
       "       [1.87564950e-01, 2.36658033e+00, 8.42082506e+00],\n",
       "       [3.76623892e-01, 6.97001373e+00, 3.93845989e+01],\n",
       "       [1.53621473e-01, 3.86013578e+00, 2.78978648e+01],\n",
       "       [3.21239606e-01, 8.24142234e+00, 2.23275728e+01],\n",
       "       [5.18146473e-01, 6.03031194e+00, 1.99453951e+01],\n",
       "       [1.69264102e-01, 1.07150062e+00, 2.39587263e+00],\n",
       "       [3.03281009e-01, 6.28170553e+00, 1.68696041e+03],\n",
       "       [2.27738470e-01, 6.94609528e+00, 1.91331321e+01],\n",
       "       [2.81313871e-01, 8.25089719e+00, 2.21915142e+01],\n",
       "       [1.94418406e-01, 2.20402324e+00, 6.89739762e+00],\n",
       "       [1.96313816e-01, 2.20443378e+00, 7.74190756e+00],\n",
       "       [2.45744473e-01, 7.27380470e+00, 1.99645869e+01],\n",
       "       [1.69151599e-01, 1.11315220e+00, 2.46093075e+00],\n",
       "       [1.64873588e-01, 1.24445448e+00, 2.79555863e+00],\n",
       "       [2.94299829e-01, 6.79581246e+00, 5.62921778e+01],\n",
       "       [7.53768924e-01, 8.91308128e+00, 5.24831367e+00],\n",
       "       [2.06611628e-01, 5.58272255e+00, 2.35871533e+03],\n",
       "       [1.58105601e-01, 1.34737950e+00, 3.36715916e+00],\n",
       "       [1.00946195e+00, 1.39567727e+01, 4.15919297e+00],\n",
       "       [4.28143010e-01, 7.96475974e+00, 2.21714354e+01],\n",
       "       [1.83388415e-01, 1.95795071e+00, 5.85032164e+00],\n",
       "       [1.84438513e-01, 3.57453995e+00, 2.61350848e+01],\n",
       "       [1.97610231e-01, 3.12017192e+00, 1.10091690e+01],\n",
       "       [1.94072421e-01, 2.18836113e+00, 7.75169295e+00],\n",
       "       [2.98138728e-01, 6.55644624e+00, 5.94715606e+01],\n",
       "       [3.36580695e-01, 6.84867334e+00, 5.20467543e+01],\n",
       "       [3.23908462e-01, 6.26881183e+00, 1.61258902e+03],\n",
       "       [3.62977286e-01, 6.88752072e+00, 4.20847066e+01],\n",
       "       [9.01141127e-01, 1.34329076e+01, 5.19008386e+00],\n",
       "       [1.89138920e-01, 2.23087138e+00, 6.41423495e+00],\n",
       "       [5.85058726e-01, 9.27979408e+00, 5.31917805e+00],\n",
       "       [2.02084647e-01, 3.00661661e+00, 1.02691754e+01],\n",
       "       [1.78695222e-01, 2.66073117e+00, 9.09816278e+00],\n",
       "       [1.34939696e+00, 1.69709991e+01, 4.37181469e+00],\n",
       "       [2.93769630e-01, 6.77245807e+00, 5.57161154e+01],\n",
       "       [3.84964925e-01, 6.77296735e+00, 3.64727641e+01],\n",
       "       [2.53865819e-01, 7.39277332e+00, 2.04970690e+01],\n",
       "       [1.58147620e-01, 1.29816403e+00, 3.60451008e+00],\n",
       "       [2.99308467e-01, 6.86146494e+00, 5.59148114e+01],\n",
       "       [1.67065273e-01, 4.42131433e+00, 2.98003859e+01],\n",
       "       [1.87739575e-01, 3.04209880e+00, 1.13802892e+01],\n",
       "       [1.23564266e+00, 1.76312876e+01, 5.50812189e+00],\n",
       "       [5.27397716e-01, 8.79452100e+00, 5.53040395e+00],\n",
       "       [2.11826210e-01, 5.27459877e+00, 2.19484443e+03],\n",
       "       [4.76325418e-01, 6.01895083e+00, 2.25865743e+01],\n",
       "       [1.84175956e-01, 4.83786873e+00, 2.98619298e+01],\n",
       "       [1.77381694e-01, 2.63030802e+00, 9.49494566e+00],\n",
       "       [1.60237768e-01, 9.65965518e-01, 2.04313374e+00],\n",
       "       [3.40432054e-01, 6.63324791e+00, 4.49791600e+01],\n",
       "       [2.01917222e-01, 5.36059964e+00, 3.12473055e+01],\n",
       "       [2.12663408e-01, 5.60080951e+00, 2.32879127e+03],\n",
       "       [1.94600068e-01, 5.00801728e+00, 2.82816769e+01],\n",
       "       [3.45863015e-01, 6.15801473e+00, 1.50557560e+03],\n",
       "       [3.73218736e-01, 6.62607507e+00, 1.49661251e+03],\n",
       "       [2.81143695e-01, 6.56450944e+00, 2.04746025e+03],\n",
       "       [2.64136340e-01, 7.62209056e+00, 2.06666980e+01],\n",
       "       [1.85464070e-01, 1.98704905e+00, 6.00482196e+00],\n",
       "       [3.91545416e-01, 7.75257340e+00, 2.13461605e+01],\n",
       "       [1.78270080e-01, 2.42270265e+00, 8.66176030e+00],\n",
       "       [1.93301600e-01, 2.13276355e+00, 7.70982971e+00],\n",
       "       [2.62533003e-01, 6.15301375e+00, 2.20623685e+03],\n",
       "       [2.08266078e-01, 3.17594793e+00, 1.03302991e+01],\n",
       "       [1.59150644e-01, 1.38364311e+00, 3.61107608e+00],\n",
       "       [7.57621762e-01, 1.10815652e+01, 5.40459262e+00],\n",
       "       [4.32849569e-01, 7.72451682e+00, 2.21748385e+01],\n",
       "       [3.31563263e-01, 6.29520972e+00, 1.60289453e+03],\n",
       "       [1.67965482e-01, 1.37535969e+00, 2.94810256e+00],\n",
       "       [2.22503556e-01, 6.92255763e+00, 1.89517855e+01],\n",
       "       [6.81303329e-01, 9.97370943e+00, 5.12135296e+00],\n",
       "       [3.53761610e-01, 6.19153791e+00, 1.49258003e+03]])"
      ]
     },
     "execution_count": 168,
     "metadata": {},
     "output_type": "execute_result"
    }
   ],
   "source": [
    "# Splitting the data\n",
    "X_train, X_test, y_train, y_test = train_test_split(X, y, test_size=0.2, random_state=42)\n",
    "X_train"
   ]
  },
  {
   "cell_type": "code",
   "execution_count": 173,
   "metadata": {},
   "outputs": [
    {
     "name": "stderr",
     "output_type": "stream",
     "text": [
      "/Users/encrypted_soul/.virtualenvs/blaze--experiments/lib/python3.9/site-packages/sklearn/base.py:1152: DataConversionWarning: A column-vector y was passed when a 1d array was expected. Please change the shape of y to (n_samples,), for example using ravel().\n",
      "  return fit_method(estimator, *args, **kwargs)\n"
     ]
    },
    {
     "data": {
      "text/plain": [
       "array([ 76.61049816, 189.65308316,  15.54057683])"
      ]
     },
     "execution_count": 173,
     "metadata": {},
     "output_type": "execute_result"
    }
   ],
   "source": [
    "# Model\n",
    "model = RandomForestRegressor(n_estimators=100, random_state=42)\n",
    "model.fit(X_train, y_train)\n",
    "\n",
    "# Predictions\n",
    "predictions = model.predict(X_test)\n",
    "\n",
    "# Evaluating the model\n",
    "rmse = np.sqrt(mean_squared_error(y_test, predictions))\n",
    "\n",
    "# Display RMSE\n",
    "rmse\n",
    "predictions[0:3]"
   ]
  },
  {
   "cell_type": "code",
   "execution_count": null,
   "metadata": {},
   "outputs": [],
   "source": []
  }
 ],
 "metadata": {
  "kernelspec": {
   "display_name": "blaze--experiments",
   "language": "python",
   "name": "python3"
  },
  "language_info": {
   "codemirror_mode": {
    "name": "ipython",
    "version": 3
   },
   "file_extension": ".py",
   "mimetype": "text/x-python",
   "name": "python",
   "nbconvert_exporter": "python",
   "pygments_lexer": "ipython3",
   "version": "3.9.6"
  },
  "orig_nbformat": 4
 },
 "nbformat": 4,
 "nbformat_minor": 2
}
